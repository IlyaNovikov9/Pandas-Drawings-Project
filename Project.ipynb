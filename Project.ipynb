{
 "cells": [
  {
   "cell_type": "code",
   "execution_count": 10,
   "id": "1da1df43",
   "metadata": {},
   "outputs": [],
   "source": [
    "import pandas as pd\n",
    "import numpy as np\n",
    "import datetime\n",
    "import math\n",
    "from PIL import Image\n",
    "import warnings\n",
    "warnings.filterwarnings(\"ignore\")"
   ]
  },
  {
   "cell_type": "code",
   "execution_count": null,
   "id": "2fc01d4a",
   "metadata": {},
   "outputs": [],
   "source": [
    "image= Image.open(\"C:\\\\Users\\\\hila\\\\Desktop\\\\train\\\\train\\\\7558\\\\SimpleTest\\\\12.png\")\n",
    "image"
   ]
  },
  {
   "cell_type": "code",
   "execution_count": null,
   "id": "7be18b82",
   "metadata": {},
   "outputs": [],
   "source": [
    "for d in os.listdir(\"C:\\\\Users\\\\hila\\\\Desktop\\\\train\\\\train\"):\n",
    "    if (not d.startswith('.')):\n",
    "        d_path = os.path.join(\"C:\\\\Users\\\\hila\\Desktop\\\\train\\\\train\\\\{}\\SimpleTest\")\n",
    "        for f in os.listdir(d_path.format(d)):\n",
    "            if(f.endswith('.csv') and f != \"Test Time Log.csv\"):\n",
    "                f_path = d_path.format(d)\n",
    "                data = pd.read_csv(f_path + '/' + f)\n",
    "                #print(data)\n",
    "                data['Color'] = 0\n",
    "                data.dropna(axis = 0, inplace = True)\n",
    "                data = data.astype({'X' : float})\n",
    "                data.to_csv(f_path + '/' + f, index=False)\n",
    "                distance=[None]\n",
    "                distance.extend([math.sqrt(math.pow((data.iloc[i]['X']-data.iloc[i-1]['X']),2)+math.pow((data.iloc[i]['Y']-data.iloc[i-1]['Y']),2)) for i in range(1,len(data))])\n",
    "                data['Distance']= distance\n",
    "                data.Distance[0]=0\n",
    "data"
   ]
  },
  {
   "cell_type": "code",
   "execution_count": null,
   "id": "b7ff24a7",
   "metadata": {},
   "outputs": [],
   "source": []
  },
  {
   "cell_type": "code",
   "execution_count": null,
   "id": "8d1dab13",
   "metadata": {},
   "outputs": [],
   "source": [
    "#question1\n",
    "def pen_raises(path):\n",
    "    lifts=0\n",
    "    for i in range(len(data)-1):\n",
    "        if data.Distance[i] > 0:\n",
    "            lifts=lifts+1\n",
    "    return lifts\n",
    "def howMuchLines():\n",
    "    lines=0\n",
    "    slant = (data['Y'][1] - data['Y'][0]) / (data['X'][1] - data['X'][0] )\n",
    "    for index in (data.index[:-1]):\n",
    "        slantemp = (data['Y'][index+1] - data['Y'][index]) / (data['X'][index+1] - data['X'][index] )\n",
    "        if(slantemp-slant<0.1):\n",
    "            same=0\n",
    "        else:\n",
    "            lines+=1\n",
    "            slant=slantemp\n",
    "    return(lines)\n",
    "\n",
    "def mission123(path):\n",
    "    count=0\n",
    "    for f in os.listdir(path):\n",
    "        file_path = os.path.join(path+'\\\\'+f)\n",
    "        if(f.split(\".\")[1] == \"csv\" and f != \"Test Time Log.csv\"):\n",
    "            slant0 = (data['Y'][1] - data['Y'][0]) / (data['X'][1] - data['X'][0] )\n",
    "            data = pd.read_csv(file_path)\n",
    "            dots=0\n",
    "            pressure_sum=0\n",
    "            pressure_avg=0\n",
    "            length = 0\n",
    "            lines = 0\n",
    "            dicte={}\n",
    "            lst = []\n",
    "            count=count+1\n",
    "            flag = False\n",
    "            lst.append([count])\n",
    "            for index in (data.index[:-1]):\n",
    "                slantemp = (data['Y'][index+1] - data['Y'][index]) / (data['X'][index+1] - data['X'][index])\n",
    "                if(abs(slantemp - slant0) < 0.5):\n",
    "                    flag = True\n",
    "                    dots += 1\n",
    "                    pressure_sum += data['Pressure'][index]\n",
    "                    length += math.sqrt(math.pow(data[\"X\"][index] - data[\"X\"][index+1],2) + math.pow(data[\"Y\"][index] - data[\"Y\"][index+1],2))\n",
    "                    #print(length)\n",
    "                else:\n",
    "                    if(flag):\n",
    "                        dots += 1\n",
    "                        lines += 1\n",
    "                        pressure_sum += data['Pressure'][index]\n",
    "                        pressure_avg = pressure_sum / dots\n",
    "                        dicte={'length':length,'pesssure_avg':pressure_avg,'lines':lines}\n",
    "                        lst.append([dicte])\n",
    "                    dots = 0\n",
    "                    pressure_sum = 0\n",
    "                    length = 0\n",
    "                    flag = False\n",
    "                    slant0 = slantemp\n",
    "            data.to_csv(file_path, index=False)\n",
    "            pprint.pprint(lst)"
   ]
  },
  {
   "cell_type": "code",
   "execution_count": null,
   "id": "879b7932",
   "metadata": {},
   "outputs": [],
   "source": [
    "#howMuchLines()\n",
    "#print(pen_raises(\"C:\\\\Users\\\\hila\\\\Desktop\\\\train\\\\train\\\\7558\\\\SimpleTest\"))\n",
    "print(mission123(os.path.join(\"C:\\\\Users\\\\hila\\\\Desktop\\\\train\\\\train\\\\7558\\\\SimpleTest\")))\n"
   ]
  },
  {
   "cell_type": "code",
   "execution_count": null,
   "id": "67c6a130",
   "metadata": {},
   "outputs": [],
   "source": [
    "image= Image.open(\"C:\\\\Users\\\\hila\\\\Desktop\\\\train\\\\train\\\\7558\\\\SimpleTest\\\\1.png\")\n",
    "print(\"checking if the answers i did was right\")\n",
    "image"
   ]
  },
  {
   "cell_type": "code",
   "execution_count": null,
   "id": "a064dd60",
   "metadata": {},
   "outputs": [],
   "source": [
    "print(\"there is one line\")"
   ]
  },
  {
   "cell_type": "code",
   "execution_count": null,
   "id": "c17a424b",
   "metadata": {},
   "outputs": [],
   "source": []
  },
  {
   "cell_type": "code",
   "execution_count": null,
   "id": "260593b0",
   "metadata": {},
   "outputs": [],
   "source": []
  }
 ],
 "metadata": {
  "kernelspec": {
   "display_name": "Python 3 (ipykernel)",
   "language": "python",
   "name": "python3"
  },
  "language_info": {
   "codemirror_mode": {
    "name": "ipython",
    "version": 3
   },
   "file_extension": ".py",
   "mimetype": "text/x-python",
   "name": "python",
   "nbconvert_exporter": "python",
   "pygments_lexer": "ipython3",
   "version": "3.9.12"
  }
 },
 "nbformat": 4,
 "nbformat_minor": 5
}
